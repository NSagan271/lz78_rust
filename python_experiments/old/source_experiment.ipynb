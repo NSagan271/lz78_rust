{
 "cells": [
  {
   "cell_type": "code",
   "execution_count": null,
   "metadata": {},
   "outputs": [],
   "source": [
    "from lz78 import DirichletLZ78Source, DiracDirichletLZ78Source, mu_k\n",
    "from sys import stdout\n",
    "import numpy as np\n",
    "from scipy.special import gamma as GammaFunc\n",
    "import scipy.special as sp\n",
    "from typing import Union\n",
    "\n",
    "import matplotlib.pyplot as plt\n",
    "from colour import Color\n",
    "\n",
    "SQRT_PI = np.sqrt(np.pi)\n",
    "LOG2 = np.log(2)\n",
    "EULER_MASCH = 0.57721566490153286060651209008240243104215933593992"
   ]
  },
  {
   "cell_type": "code",
   "execution_count": null,
   "metadata": {},
   "outputs": [],
   "source": [
    "def harmonic_number(n):\n",
    "    return sp.digamma(n + 1) + EULER_MASCH\n",
    "\n",
    "def binary_entropy(p):\n",
    "    if p == 0 or p == 1:\n",
    "        return 0\n",
    "    return -p * np.log2(p) - (1-p) * np.log2(1-p)"
   ]
  },
  {
   "cell_type": "code",
   "execution_count": null,
   "metadata": {},
   "outputs": [],
   "source": [
    "def compute_lz78_dirichlet_entropy_rate(a):\n",
    "    if a == 0:\n",
    "        return 0\n",
    "    return -2 * GammaFunc(2*a) * (\n",
    "        4**(-a) * SQRT_PI * GammaFunc(a) * (\n",
    "            harmonic_number(a) - harmonic_number(2*a)\n",
    "        )\n",
    "    ) / (\n",
    "        GammaFunc(a + 1/2) * GammaFunc(a)**2 * LOG2\n",
    "    )\n",
    "compute_lz78_dirichlet_entropy_rate = np.vectorize(\n",
    "    compute_lz78_dirichlet_entropy_rate,\n",
    "    otypes=[np.float64]\n",
    ")"
   ]
  },
  {
   "cell_type": "code",
   "execution_count": null,
   "metadata": {},
   "outputs": [],
   "source": [
    "gammas = np.linspace(0, 5)\n",
    "vals = compute_lz78_dirichlet_entropy_rate(gammas)\n",
    "\n",
    "plt.figure(figsize=(18,8))\n",
    "\n",
    "plt.plot(\n",
    "    gammas, vals, \"-\", linewidth=4, markersize=4,\n",
    "    color=\"red\",\n",
    ")\n",
    "    \n",
    "plt.title(f\"Entropy Rate of Dirichlet LZ78 Source\", fontdict={\"size\": 36})\n",
    "plt.xlabel(\"Dirichlet Parameter\", fontdict={\"size\": 30})\n",
    "plt.ylabel(\"Entropy Rate\", fontdict={\"size\": 30})\n",
    "plt.tick_params(labelsize=24)\n",
    "plt.grid(True)"
   ]
  },
  {
   "cell_type": "code",
   "execution_count": null,
   "metadata": {},
   "outputs": [],
   "source": [
    "def compute_lz78_dirac_dirichlet_entropy_rate(gamma, delta, dirac_loc):\n",
    "    dirac_entropy = binary_entropy(dirac_loc)\n",
    "    dirichlet_entropy = compute_lz78_dirichlet_entropy_rate(gamma)\n",
    "    return (1-delta) * dirac_entropy + delta * dirichlet_entropy"
   ]
  },
  {
   "cell_type": "code",
   "execution_count": null,
   "metadata": {},
   "outputs": [],
   "source": [
    "def source_experiment(\n",
    "    ns: list[int], gamma:float=None, source:Union[DirichletLZ78Source,DiracDirichletLZ78Source]=None, seed=42\n",
    ") -> tuple[list[int], list[float], DirichletLZ78Source]:\n",
    "    if source is None:\n",
    "        assert gamma is not None, \"source and gamma cannot both be None\"\n",
    "        source = DirichletLZ78Source(2, gamma=gamma, seed=seed)\n",
    "    \n",
    "    prev_n = 0\n",
    "    result = []\n",
    "    seq = []\n",
    "    for n in ns:\n",
    "        seq.extend(source.generate_symbols(n - prev_n))\n",
    "        prev_n = n\n",
    "        result.append(source.get_scaled_log_loss())\n",
    "\n",
    "    return seq, result, source"
   ]
  },
  {
   "cell_type": "code",
   "execution_count": null,
   "metadata": {},
   "outputs": [],
   "source": [
    "def compute_mu_ks(seq: list[int], ns: list[int], k: int, a=2,) -> list[float]:\n",
    "    losses = []\n",
    "    for n in ns:\n",
    "        losses.append(mu_k(seq[:n], a, k))\n",
    "    return losses"
   ]
  },
  {
   "cell_type": "markdown",
   "metadata": {},
   "source": [
    "## Experiments: Dirichlet Source"
   ]
  },
  {
   "cell_type": "code",
   "execution_count": null,
   "metadata": {},
   "outputs": [],
   "source": [
    "GAMMA = 0.5\n",
    "END = 8\n",
    "A = 3\n",
    "x = [int(round(x)) for x in np.logspace(1, END, 20)]\n",
    "N = 5"
   ]
  },
  {
   "cell_type": "code",
   "execution_count": null,
   "metadata": {},
   "outputs": [],
   "source": [
    "# import pickle\n",
    "# with open(f\"dirichlet_gamma_{GAMMA}_source.npy\", \"rb\") as f:\n",
    "#     loaded = pickle.load(f)\n",
    "# loss_trials = loaded[\"loss_trials\"]\n",
    "# x = loaded[\"times\"]\n",
    "# mu_0 = loaded[\"mu_0\"]\n",
    "# mu_5 = loaded[\"mu_5\"]\n",
    "# mu_10 = loaded[\"mu_10\"]"
   ]
  },
  {
   "cell_type": "code",
   "execution_count": null,
   "metadata": {},
   "outputs": [],
   "source": [
    "stdout.flush()\n",
    "loss_trials = []\n",
    "for i in range(N):\n",
    "    _, losses, _ = source_experiment(x, GAMMA, DirichletLZ78Source(A, GAMMA, seed=i), seed=i)\n",
    "    loss_trials.append(losses)"
   ]
  },
  {
   "cell_type": "code",
   "execution_count": null,
   "metadata": {},
   "outputs": [],
   "source": [
    "entropy_rate = compute_lz78_dirichlet_entropy_rate(GAMMA)\n",
    "entropy_rate = 0.961797\n",
    "mu = binary_entropy(1/2) * np.log2(3)"
   ]
  },
  {
   "cell_type": "code",
   "execution_count": null,
   "metadata": {},
   "outputs": [],
   "source": [
    "colors = list(Color(\"#ff0000\").range_to(Color(\"#6e0b0b\"),N))\n",
    "\n",
    "plt.figure(figsize=(18,12))\n",
    "plt.plot(\n",
    "    x, np.ones(len(x)) * entropy_rate,\n",
    "    'k--', linewidth=8, label=\"Entropy Rate\"\n",
    ")\n",
    "plt.plot(\n",
    "    x, np.ones(len(x)) * mu, '--', linewidth=8,\n",
    "    color=\"#888888\", label=\"$\\mu(X)$\"\n",
    ")\n",
    "\n",
    "plt.plot(\n",
    "    x, loss_trials[0], \"-D\", linewidth=4, markersize=8,\n",
    "    color=\"red\", label=\"Log Probabilities\"\n",
    ")\n",
    "for i in range(1, N):\n",
    "    plt.plot(\n",
    "        x, loss_trials[i], \"-D\", linewidth=4, markersize=8,\n",
    "        color=colors[i].get_hex()\n",
    "    )\n",
    "    \n",
    "plt.legend(fontsize=24)\n",
    "plt.xscale(\"log\")\n",
    "plt.title(f\"Log Probability of Sequences from LZ78 Source\\n(Three-Dimensional Dirichlet Prior with $\\gamma=${GAMMA})\", fontdict={\"size\": 36})\n",
    "plt.xlabel(\"Number of Symbols\", fontdict={\"size\": 30})\n",
    "plt.ylabel(\"Log Probability\", fontdict={\"size\": 30})\n",
    "plt.tick_params(labelsize=24)\n",
    "plt.grid(True)"
   ]
  },
  {
   "cell_type": "code",
   "execution_count": null,
   "metadata": {},
   "outputs": [],
   "source": [
    "stdout.flush()\n",
    "seq, log_probs, _ = source_experiment(x, GAMMA, DirichletLZ78Source(A, GAMMA, seed=i), seed=42)\n",
    "mu_0 = compute_mu_ks(seq, x, k=0, a=A)\n",
    "mu_5 = compute_mu_ks(seq, x, k=5, a=A)\n",
    "mu_10 = compute_mu_ks(seq, x, k=10, a=A)\n",
    "# mu_31 = compute_mu_ks(seq, x, k=31)"
   ]
  },
  {
   "cell_type": "code",
   "execution_count": null,
   "metadata": {},
   "outputs": [],
   "source": [
    "plt.figure(figsize=(18,12))\n",
    "plt.plot(\n",
    "    x, np.ones(len(x)) * entropy_rate,\n",
    "    'k--', linewidth=8, label=\"Entropy Rate\"\n",
    ")\n",
    "plt.plot(\n",
    "    x, np.ones(len(x)) * mu, '--', linewidth=8,\n",
    "    color=\"#888888\", label=\"$\\mu$(X)\"\n",
    ")\n",
    "\n",
    "plt.plot(\n",
    "    x, mu_0, \"-o\", linewidth=4, markersize=8,\n",
    "    color=\"#332288\", label=\"$\\mu_0(X^n)$\"\n",
    ") \n",
    "plt.plot(\n",
    "    x, mu_5, \"-o\", linewidth=4, markersize=8,\n",
    "    color=\"#117733\", label=\"$\\mu_5(X^n)$\"\n",
    ") \n",
    "plt.plot(\n",
    "    x, mu_10, \"-o\", linewidth=4, markersize=8,\n",
    "    color=\"#0072B2\", label=\"$\\mu_{10}(X^n)$\"\n",
    ")\n",
    "# plt.plot(\n",
    "#     x, mu_31, \"-o\", linewidth=2, markersize=3,\n",
    "#     color=\"blue\", label=\"$\\mu_{31}(D^n)$\"\n",
    "# ) \n",
    "plt.plot(\n",
    "    x, log_probs, \"-D\", linewidth=6, markersize=12,\n",
    "    color=\"red\", label=\"Log Probabilities\"\n",
    ")   \n",
    "    \n",
    "plt.legend(fontsize=24)\n",
    "plt.xscale(\"log\")\n",
    "plt.title(f\"Log Probability of Sequences from LZ78 Source\\n(Three-Dimensional Dirichlet Prior with $\\gamma=${GAMMA})\", fontdict={\"size\": 36})\n",
    "plt.xlabel(\"Number of Symbols\", fontdict={\"size\": 30})\n",
    "plt.ylabel(\"Log Probability\", fontdict={\"size\": 30})\n",
    "plt.tick_params(labelsize=24)\n",
    "plt.grid(True)"
   ]
  },
  {
   "cell_type": "code",
   "execution_count": null,
   "metadata": {},
   "outputs": [],
   "source": [
    "to_save = {\n",
    "    \"gamma\": GAMMA,\n",
    "    \"loss_trials\": loss_trials,\n",
    "    \"seq\": seq,\n",
    "    \"log_probs\": log_probs,\n",
    "    \"mu_0\": mu_0,\n",
    "    \"mu_5\": mu_5,\n",
    "    \"mu_10\": mu_10,\n",
    "    \"times\": x,\n",
    "}"
   ]
  },
  {
   "cell_type": "code",
   "execution_count": null,
   "metadata": {},
   "outputs": [],
   "source": [
    "import pickle\n",
    "with open(f\"dirichlet_gamma_{GAMMA}_source.npy\", \"wb\") as f:\n",
    "    pickle.dump(to_save, f)"
   ]
  },
  {
   "cell_type": "code",
   "execution_count": null,
   "metadata": {},
   "outputs": [],
   "source": [
    "with open(f\"dirichlet_gamma_{GAMMA}_source.npy\", \"rb\") as f:\n",
    "    loaded = pickle.load(f)"
   ]
  },
  {
   "cell_type": "markdown",
   "metadata": {},
   "source": [
    "## Dirac Dirichlet Mixture"
   ]
  },
  {
   "cell_type": "code",
   "execution_count": null,
   "metadata": {},
   "outputs": [],
   "source": [
    "GAMMA = 2\n",
    "EPSILON = 0.01\n",
    "DELTA = 0.25\n",
    "END = 7\n",
    "x = [int(round(x)) for x in np.logspace(1, END ,20)]\n",
    "N = 5"
   ]
  },
  {
   "cell_type": "code",
   "execution_count": null,
   "metadata": {},
   "outputs": [],
   "source": [
    "stdout.flush()\n",
    "loss_trials = []\n",
    "for i in range(N):\n",
    "    _, losses, _ = source_experiment(x, GAMMA, source=DiracDirichletLZ78Source(GAMMA, DELTA, EPSILON, seed=i), seed=i)\n",
    "    loss_trials.append(losses)"
   ]
  },
  {
   "cell_type": "code",
   "execution_count": null,
   "metadata": {},
   "outputs": [],
   "source": [
    "entropy_rate = compute_lz78_dirac_dirichlet_entropy_rate(GAMMA, DELTA, EPSILON)\n",
    "mu = binary_entropy(1/2)"
   ]
  },
  {
   "cell_type": "code",
   "execution_count": null,
   "metadata": {},
   "outputs": [],
   "source": [
    "colors = list(Color(\"#ff0000\").range_to(Color(\"#6e0b0b\"),N))\n",
    "\n",
    "plt.figure(figsize=(18,12))\n",
    "plt.plot(\n",
    "    x, np.ones(len(x)) * entropy_rate,\n",
    "    'k--', linewidth=8, label=\"Entropy Rate\"\n",
    ")\n",
    "plt.plot(\n",
    "    x, np.ones(len(x)) * mu, '--', linewidth=8,\n",
    "    color=\"#888888\", label=\"$\\mu(D)$\"\n",
    ")\n",
    "\n",
    "plt.plot(\n",
    "    x, loss_trials[0], \"-D\", linewidth=4, markersize=8,\n",
    "    color=\"red\", label=\"Log Probabilities\"\n",
    ")\n",
    "for i in range(1, N):\n",
    "    plt.plot(\n",
    "        x, loss_trials[i], \"-D\", linewidth=4, markersize=8,\n",
    "        color=colors[i].get_hex()\n",
    "    )\n",
    "    \n",
    "plt.legend(fontsize=24)\n",
    "plt.xscale(\"log\")\n",
    "plt.title(f\"Log Probability of Sequences from LZ78 Source\\n(Dirac-Dirichlet Mixture with $\\gamma=${GAMMA}, $\\zeta=${DELTA}, $\\\\xi$={EPSILON})\", fontdict={\"size\": 36})\n",
    "plt.xlabel(\"Number of Symbols\", fontdict={\"size\": 30})\n",
    "plt.ylabel(\"Log Probability\", fontdict={\"size\": 30})\n",
    "plt.tick_params(labelsize=24)\n",
    "plt.grid(True)"
   ]
  },
  {
   "cell_type": "code",
   "execution_count": null,
   "metadata": {},
   "outputs": [],
   "source": [
    "stdout.flush()\n",
    "seq, log_probs, _ = source_experiment(x, GAMMA, DiracDirichletLZ78Source(GAMMA, DELTA, EPSILON, seed=i), seed=42)\n",
    "mu_0 = compute_mu_ks(seq, x, k=0)\n",
    "mu_5 = compute_mu_ks(seq, x, k=5)\n",
    "mu_10 = compute_mu_ks(seq, x, k=10)\n",
    "# mu_31 = compute_mu_ks(seq, x, k=31)"
   ]
  },
  {
   "cell_type": "code",
   "execution_count": null,
   "metadata": {},
   "outputs": [],
   "source": [
    "plt.figure(figsize=(18,12))\n",
    "plt.plot(\n",
    "    x, np.ones(len(x)) * entropy_rate,\n",
    "    'k--', linewidth=8, label=\"Entropy Rate\"\n",
    ")\n",
    "plt.plot(\n",
    "    x, np.ones(len(x)) * mu, '--', linewidth=8,\n",
    "    color=\"#888888\", label=\"$\\mu$(X)\"\n",
    ")\n",
    "\n",
    "plt.plot(\n",
    "    x, mu_0, \"-o\", linewidth=4, markersize=8,\n",
    "    color=\"#332288\", label=\"$\\mu_0(X^n)$\"\n",
    ") \n",
    "plt.plot(\n",
    "    x, mu_5, \"-o\", linewidth=4, markersize=8,\n",
    "    color=\"#117733\", label=\"$\\mu_5(X^n)$\"\n",
    ") \n",
    "plt.plot(\n",
    "    x, mu_10, \"-o\", linewidth=4, markersize=8,\n",
    "    color=\"#0072B2\", label=\"$\\mu_{10}(X^n)$\"\n",
    ")\n",
    "# plt.plot(\n",
    "#     x, mu_31, \"-o\", linewidth=2, markersize=3,\n",
    "#     color=\"blue\", label=\"$\\mu_{31}(D^n)$\"\n",
    "# ) \n",
    "plt.plot(\n",
    "    x, log_probs, \"-D\", linewidth=6, markersize=12,\n",
    "    color=\"red\", label=\"Log Probabilities\"\n",
    ")   \n",
    "    \n",
    "plt.legend(fontsize=24)\n",
    "plt.xscale(\"log\")\n",
    "plt.title(f\"Log Probability of Sequences from LZ78 Source\\n(Dirac-Dirichlet Mixture with $\\gamma=${GAMMA}, $\\zeta=${DELTA}, $\\\\xi$={EPSILON})\", fontdict={\"size\": 36})\n",
    "plt.xlabel(\"Number of Symbols\", fontdict={\"size\": 30})\n",
    "plt.ylabel(\"Log Probability\", fontdict={\"size\": 30})\n",
    "plt.tick_params(labelsize=24)\n",
    "plt.grid(True)"
   ]
  },
  {
   "cell_type": "code",
   "execution_count": null,
   "metadata": {},
   "outputs": [],
   "source": []
  }
 ],
 "metadata": {
  "kernelspec": {
   "display_name": "lz_env",
   "language": "python",
   "name": "python3"
  },
  "language_info": {
   "codemirror_mode": {
    "name": "ipython",
    "version": 3
   },
   "file_extension": ".py",
   "mimetype": "text/x-python",
   "name": "python",
   "nbconvert_exporter": "python",
   "pygments_lexer": "ipython3",
   "version": "3.11.11"
  }
 },
 "nbformat": 4,
 "nbformat_minor": 2
}
