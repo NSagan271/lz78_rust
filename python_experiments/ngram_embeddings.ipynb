{
 "cells": [
  {
   "cell_type": "code",
   "execution_count": null,
   "metadata": {},
   "outputs": [],
   "source": [
    "from lz_embed.classical import BasicNGramSpectrum, AlphabetInfo, NGramSpectrumEmbedding\n",
    "import matplotlib.pyplot as plt\n",
    "import mteb\n",
    "from sys import stdout\n",
    "import numpy as np"
   ]
  },
  {
   "cell_type": "code",
   "execution_count": null,
   "metadata": {},
   "outputs": [],
   "source": [
    "%load_ext autoreload\n",
    "%autoreload 2"
   ]
  },
  {
   "cell_type": "code",
   "execution_count": null,
   "metadata": {},
   "outputs": [],
   "source": [
    "model = BasicNGramSpectrum(\n",
    "    alpha_info=AlphabetInfo(valid_character_string=\"abcdefghijklmnopqrstuvwxyz\"),\n",
    "    n=2\n",
    ")"
   ]
  },
  {
   "cell_type": "code",
   "execution_count": null,
   "metadata": {},
   "outputs": [],
   "source": [
    "model.fixed_len"
   ]
  },
  {
   "cell_type": "code",
   "execution_count": null,
   "metadata": {},
   "outputs": [],
   "source": [
    "plt.figure(figsize=(12,3))\n",
    "plt.plot(model.encode([\n",
    "    \"Hello world hello world I am a hello of the world hello hello world world wow wow hello hello\"\n",
    "])[0])"
   ]
  },
  {
   "cell_type": "code",
   "execution_count": null,
   "metadata": {},
   "outputs": [],
   "source": [
    "plt.figure(figsize=(12,3))\n",
    "plt.plot(model.encode([\n",
    "    \"Lorem ipsum dolor sit amet, consectetur adipiscing elit, sed do eiusmod tempor incididunt ut labore et dolore magna aliqua. Ut enim ad minim veniam, quis nostrud exercitation ullamco laboris nisi ut aliquip ex ea commodo consequat. Duis aute irure dolor in reprehenderit in voluptate velit esse cillum dolore eu fugiat nulla pariatur. Excepteur sint occaecat cupidatat non proident, sunt in culpa qui officia deserunt mollit anim id est laborum.\"\n",
    "])[0])"
   ]
  },
  {
   "cell_type": "markdown",
   "metadata": {},
   "source": [
    "## Try on some of the MTEB tasks\n",
    "\n",
    "This does surprisingly well for a 2-gram model (3-gram is slow and the embeddings are prohibitively large). It does pretty poorly for some tasks, but this is a surprising result for something that is completely model-free.\n",
    "\n",
    "Results here: [link](https://docs.google.com/spreadsheets/d/11CBoRJ33tmXQqd50IVaWbFn915fD90Het3DKSTW8F78/edit?usp=sharing)\n",
    "\n",
    "**Next steps**:\n",
    "- Do PCA to reduce the dimension. Does it help or hurt accuracy?\n",
    "- Try this but for token counts. This must have been tried before?"
   ]
  },
  {
   "cell_type": "code",
   "execution_count": null,
   "metadata": {},
   "outputs": [],
   "source": [
    "model = NGramSpectrumEmbedding(\n",
    "    alpha_info=AlphabetInfo(valid_character_string=\"abcdefghijklmnopqrstuvwxyz\"),\n",
    "    n=2, lowercase=True\n",
    ")"
   ]
  },
  {
   "cell_type": "code",
   "execution_count": null,
   "metadata": {},
   "outputs": [],
   "source": [
    "# with open(\"tasks.txt\", \"r\") as f:\n",
    "#     task_list = [x.strip() for x in f.readlines()]\n",
    "task_list = [\n",
    "    \"ArXivHierarchicalClusteringP2P\",\n",
    "    \"FinancialPhrasebankClassification\",\n",
    "    \"PoemSentimentClassification\"\n",
    "]"
   ]
  },
  {
   "cell_type": "code",
   "execution_count": null,
   "metadata": {},
   "outputs": [],
   "source": [
    "outputs = []\n",
    "\n",
    "for task in task_list:\n",
    "    tasks = mteb.get_tasks(tasks=[task])\n",
    "    evaluation = mteb.MTEB(tasks=tasks)\n",
    "\n",
    "    results = evaluation.run(\n",
    "        model, output_folder=f\"results/test\",\n",
    "        show_progress_bar=False,\n",
    "        overwrite_results=True\n",
    "    )\n",
    "\n",
    "    score = np.mean([results[0].scores[name][0][\"main_score\"] * 100 for name in results[0].scores])\n",
    "    outputs.append(score)\n",
    "    print(\"SCORE: \", score)\n",
    "    stdout.flush()"
   ]
  },
  {
   "cell_type": "code",
   "execution_count": null,
   "metadata": {},
   "outputs": [],
   "source": [
    "print(\"\\t\".join(outputs))"
   ]
  },
  {
   "cell_type": "code",
   "execution_count": null,
   "metadata": {},
   "outputs": [],
   "source": []
  }
 ],
 "metadata": {
  "kernelspec": {
   "display_name": "mb",
   "language": "python",
   "name": "python3"
  },
  "language_info": {
   "codemirror_mode": {
    "name": "ipython",
    "version": 3
   },
   "file_extension": ".py",
   "mimetype": "text/x-python",
   "name": "python",
   "nbconvert_exporter": "python",
   "pygments_lexer": "ipython3",
   "version": "3.10.17"
  }
 },
 "nbformat": 4,
 "nbformat_minor": 2
}
