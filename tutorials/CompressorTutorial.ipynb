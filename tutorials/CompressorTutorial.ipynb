{
 "cells": [
  {
   "cell_type": "markdown",
   "metadata": {},
   "source": [
    "# LZ78 Usage Tutorial: Compression\n",
    "\n",
    "**Note**: please look at `Sequences.ipynb` first if you haven't already.\n",
    "\n",
    "## Prerequisites\n",
    "1. Follow the setup instructions in `tutorials/README.md`\n",
    "2. In the same Python environment as you used for that tutorial, run `pip install ipykernel`\n",
    "3. Use that Python environment as the kernel for this notebook.\n",
    "\n",
    "## Important Note\n",
    "Sometimes, Jupyter doesn't register that a cell containing code from the `lz78` library has started running, so it seems like the cell is waiting to run until it finishes.\n",
    "This can be annoying for operations that take a while to run, and **can be remedied by putting `stdout.flush()` at the beginning of the cell**.\n",
    "\n",
    "## Imports"
   ]
  },
  {
   "cell_type": "code",
   "execution_count": null,
   "metadata": {},
   "outputs": [],
   "source": [
    "from lz78 import Sequence, LZ78Encoder, CharacterMap, BlockLZ78Encoder\n",
    "from lz78 import encoded_sequence_from_bytes\n",
    "import os\n",
    "import lorem\n",
    "from sys import stdout"
   ]
  },
  {
   "cell_type": "markdown",
   "metadata": {},
   "source": [
    "## LZ78 Compression\n",
    "The `LZ78Encoder` object performs plain LZ78 encoding and decoding, as described in \"Compression of individual sequences via variable-rate coding\" (Ziv, Lempel 1978)."
   ]
  },
  {
   "cell_type": "markdown",
   "metadata": {},
   "source": [
    "### 1. `CompressedSequence` object\n",
    "A `CompressedSequence` object stores an encoded bitstream, as well as some auxiliary information needed for decoding.\n",
    "`CompressedSequence` objects cannot be instantiated directly,\n",
    "but rather are returned by `LZ78Encoder.encode`.\n",
    "\n",
    "The main functionality is:\n",
    "1. Getting the compression ratio as `(encoded size) / (uncompressed len * log A)`,\n",
    "    where A is the size of the alphabet.\n",
    "2. Getting a byte array representing this object, so that the compressed\n",
    "    sequence can be stored to a file"
   ]
  },
  {
   "cell_type": "markdown",
   "metadata": {},
   "source": [
    "### 2. Example: LZ78 Encoding"
   ]
  },
  {
   "cell_type": "code",
   "execution_count": null,
   "metadata": {},
   "outputs": [],
   "source": [
    "# Make an input sequence to compress\n",
    "stdout.flush()\n",
    "data = \" \".join(([lorem.paragraph() for _ in range(10_000)]))\n",
    "charmap = CharacterMap(data)\n",
    "charseq = Sequence(data, charmap=charmap)\n",
    "encoder = LZ78Encoder()"
   ]
  },
  {
   "cell_type": "markdown",
   "metadata": {},
   "source": [
    "#### `LZ78Encoder` Instance method: `encode`\n",
    "Performs LZ78 encoding on an individual sequence, and returns a `CompressedSequence` object."
   ]
  },
  {
   "cell_type": "code",
   "execution_count": null,
   "metadata": {},
   "outputs": [],
   "source": [
    "stdout.flush()\n",
    "encoded = encoder.encode(charseq)"
   ]
  },
  {
   "cell_type": "markdown",
   "metadata": {},
   "source": [
    "#### `CompressedSequence` Instance method: `compression_ratio`"
   ]
  },
  {
   "cell_type": "code",
   "execution_count": null,
   "metadata": {},
   "outputs": [],
   "source": [
    "encoded.compression_ratio()"
   ]
  },
  {
   "cell_type": "markdown",
   "metadata": {},
   "source": [
    "#### Saving a `CompressedSequence` object\n",
    "`CompressedSequence` has functionality to produce a `bytes` object representation, which can be written directly to a file.\n",
    "The function `encoded_sequence_from_bytes` produces a `CompressedSequence` object from this `bytes` representation."
   ]
  },
  {
   "cell_type": "code",
   "execution_count": null,
   "metadata": {},
   "outputs": [],
   "source": [
    "stdout.flush()\n",
    "bytes = encoded.to_bytes()\n",
    "\n",
    "os.makedirs(\"test_data\", exist_ok=True)\n",
    "with open(\"test_data/saved_encoded_sequence.bin\", 'wb') as file:\n",
    "    file.write(bytes)"
   ]
  },
  {
   "cell_type": "markdown",
   "metadata": {},
   "source": [
    "Now, let's read the compressed sequence from the file and decode it."
   ]
  },
  {
   "cell_type": "code",
   "execution_count": null,
   "metadata": {},
   "outputs": [],
   "source": [
    "with open(\"test_data/saved_encoded_sequence.bin\", 'rb') as file:\n",
    "    encoded_bytes = file.read()\n",
    "encoded = encoded_sequence_from_bytes(encoded_bytes)"
   ]
  },
  {
   "cell_type": "code",
   "execution_count": null,
   "metadata": {},
   "outputs": [],
   "source": [
    "stdout.flush()\n",
    "decoded = encoder.decode(encoded)"
   ]
  },
  {
   "cell_type": "code",
   "execution_count": null,
   "metadata": {},
   "outputs": [],
   "source": [
    "decoded.get_data()[:100]"
   ]
  },
  {
   "cell_type": "code",
   "execution_count": null,
   "metadata": {},
   "outputs": [],
   "source": [
    "assert decoded.get_data() == data"
   ]
  },
  {
   "cell_type": "markdown",
   "metadata": {},
   "source": [
    "### 2.3 Block-Wise Compression\n",
    "Sometimes, it might be useful to loop through blocks of data and perform LZ78 encoding on each block (e.g., if you need to do data processing before LZ78 compression and want to have some sort of pipeline parallelism).\n",
    "\n",
    "The `BlockLZ78Encoder` has this functionality: you can pass in the input sequence to be compressed in chunks, and the output (`encoder.get_encoded_sequence()`) is as if the full concatenated sequence was passed in to an LZ78 encoder."
   ]
  },
  {
   "cell_type": "code",
   "execution_count": null,
   "metadata": {},
   "outputs": [],
   "source": [
    "charmap = CharacterMap(\"abcdefghijklmnopqrstuvwxyzABCDEFGHIJKLMNOPQRSTUVWXYZ. ,?\")"
   ]
  },
  {
   "cell_type": "code",
   "execution_count": null,
   "metadata": {},
   "outputs": [],
   "source": [
    "encoder = BlockLZ78Encoder(charmap.alphabet_size())"
   ]
  },
  {
   "cell_type": "markdown",
   "metadata": {},
   "source": [
    "#### Instance method: `encode_block`\n",
    "Encodes a block using LZ78, starting at the end of the previous block.\n",
    "\n",
    "All blocks must be over the same alphabet, or else the call to `encode_block` will error."
   ]
  },
  {
   "cell_type": "code",
   "execution_count": null,
   "metadata": {},
   "outputs": [],
   "source": [
    "stdout.flush()\n",
    "for _ in range(1000):\n",
    "    encoder.encode_block(Sequence(lorem.paragraph(), charmap=charmap))"
   ]
  },
  {
   "cell_type": "code",
   "execution_count": null,
   "metadata": {},
   "outputs": [],
   "source": [
    "# Oops, this won't work!\n",
    "encoder.encode_block(Sequence([0, 1, 2, 3, 4, 5, 6, 7, 8, 9, 10], alphabet_size=11))"
   ]
  },
  {
   "cell_type": "markdown",
   "metadata": {},
   "source": [
    "#### Instance method: `get_encoded_sequence`\n",
    "Returns the compressed sequence, which is equivalent to the output of `LZ78Encoder.encode` on the concatenation of all inputs to `encode_block` thus far."
   ]
  },
  {
   "cell_type": "code",
   "execution_count": null,
   "metadata": {},
   "outputs": [],
   "source": [
    "encoded_sequence = encoder.get_encoded_sequence()\n",
    "encoded_sequence.compression_ratio()"
   ]
  },
  {
   "cell_type": "markdown",
   "metadata": {},
   "source": [
    "#### Instance method: `decode`\n",
    "Decompresses the compressed sequence that has been constructed thus far."
   ]
  },
  {
   "cell_type": "code",
   "execution_count": null,
   "metadata": {},
   "outputs": [],
   "source": [
    "stdout.flush()\n",
    "decoded = encoder.decode()\n",
    "print(decoded[376:400])\n",
    "charmap.decode(decoded[376:400])"
   ]
  }
 ],
 "metadata": {
  "kernelspec": {
   "display_name": "lz_env",
   "language": "python",
   "name": "python3"
  },
  "language_info": {
   "codemirror_mode": {
    "name": "ipython",
    "version": 3
   },
   "file_extension": ".py",
   "mimetype": "text/x-python",
   "name": "python",
   "nbconvert_exporter": "python",
   "pygments_lexer": "ipython3",
   "version": "3.11.11"
  }
 },
 "nbformat": 4,
 "nbformat_minor": 2
}
