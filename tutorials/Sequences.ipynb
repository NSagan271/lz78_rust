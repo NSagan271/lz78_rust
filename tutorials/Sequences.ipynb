{
 "cells": [
  {
   "cell_type": "markdown",
   "metadata": {},
   "source": [
    "# LZ78 Usage Tutorial: Sequences\n",
    "**Note**: This is a prerequisite for the `EncoderDecoderTutorial.ipynb` and `SPATutorial.ipynb`!\n",
    "\n",
    "## Prerequisites\n",
    "1. Follow the setup instructions in `tutorials/README.md`\n",
    "2. In the same Python environment as you used for that tutorial, run `pip install ipykernel`\n",
    "3. Use that Python environment as the kernel for this notebook.\n",
    "\n",
    "## Important Note\n",
    "Sometimes, Jupyter doesn't register that a cell containing code from the `lz78` library has started running, so it seems like the cell is waiting to run until it finishes.\n",
    "This can be annoying for operations that take a while to run, and **can be remedied by putting `stdout.flush()` at the beginning of the cell**.\n",
    "\n",
    "## Imports"
   ]
  },
  {
   "cell_type": "code",
   "execution_count": null,
   "metadata": {},
   "outputs": [],
   "source": [
    "from lz78 import Sequence, CharacterMap\n",
    "import lorem\n",
    "import numpy as np\n",
    "from sys import stdout"
   ]
  },
  {
   "cell_type": "markdown",
   "metadata": {},
   "source": [
    "## Sequences\n",
    "\n",
    "Any sequence of data that can be LZ78-encoded (i.e., a list of integers or a String) is represented as a `Sequence` object.\n",
    "Storing sequences as this object (as opposed to raw lists or strings) allows for a common interface that streamlines the LZ78 encoding process.\n",
    "\n",
    "Each sequence is associated with an alphabet size, A.\n",
    "\n",
    "If the sequence consists of integers, they must be in the range ${0, 1, ..., A-1}$.\n",
    "If $A < 256$, the sequence is stored internally as bytes.\n",
    "Otherwise, it is stored as `uint32`.\n",
    "\n",
    "If the sequence is a string, a `CharacterMap` object maps each character to a number between 0 and A-1.\n",
    "More on this later.\n",
    "\n",
    "**Inputs**:\n",
    "- data: either a list of integers or a string.\n",
    "- alphabet_size (optional): the size of the alphabet.\n",
    "    If this is `None`, then the alphabet size is inferred from the data.\n",
    "- charmap (optional): A `CharacterMap` object; only valid if `data` is a string.\n",
    "    If `data` is a string and this is `None`, then the character map is inferred from the data.\n",
    "\n",
    "The methods available for a `Sequence` object are described below."
   ]
  },
  {
   "cell_type": "markdown",
   "metadata": {},
   "source": [
    "### 1. Example: Integer Sequence"
   ]
  },
  {
   "cell_type": "code",
   "execution_count": null,
   "metadata": {},
   "outputs": [],
   "source": [
    "data = np.random.randint(0, 2, size=(1_000_000,))\n",
    "int_sequence = Sequence(data, alphabet_size=2)"
   ]
  },
  {
   "cell_type": "markdown",
   "metadata": {},
   "source": [
    "You must specify the alphabet size when instantiating an integer sequence.\n",
    "This is because the LZ78 compressor relies on the alphabet size encoded in the `Sequence` object to compress.\n",
    "The alphabet size associated with a sequence is also used to ensure that a SPA is only trained on sequences from the same alphabet."
   ]
  },
  {
   "cell_type": "code",
   "execution_count": null,
   "metadata": {},
   "outputs": [],
   "source": [
    "# This will fail\n",
    "int_sequence = Sequence([1, 2, 3, 4])"
   ]
  },
  {
   "cell_type": "markdown",
   "metadata": {},
   "source": [
    "A limited number of Python list operations work on `Sequence`:"
   ]
  },
  {
   "cell_type": "code",
   "execution_count": null,
   "metadata": {},
   "outputs": [],
   "source": [
    "print(len(int_sequence))\n",
    "print(int_sequence[-20:])"
   ]
  },
  {
   "cell_type": "markdown",
   "metadata": {},
   "source": [
    "As a note, indexing a string-based sequence in this manner will return the integer-based representation of the string and not the string itself. You will have to use the corresponding character map to map these integers back to a string representation."
   ]
  },
  {
   "cell_type": "markdown",
   "metadata": {},
   "source": [
    "#### Instance method: `extend`\n",
    "\n",
    "Adds data to the end of the sequence.\n",
    "Data must be over the same alphabet as the current sequence."
   ]
  },
  {
   "cell_type": "code",
   "execution_count": null,
   "metadata": {},
   "outputs": [],
   "source": [
    "more_data = np.random.randint(0, 2, size=(200,))\n",
    "int_sequence.extend(more_data)"
   ]
  },
  {
   "cell_type": "code",
   "execution_count": null,
   "metadata": {},
   "outputs": [],
   "source": [
    "len(int_sequence)"
   ]
  },
  {
   "cell_type": "markdown",
   "metadata": {},
   "source": [
    "#### Instance method: `alphabet_size`"
   ]
  },
  {
   "cell_type": "code",
   "execution_count": null,
   "metadata": {},
   "outputs": [],
   "source": [
    "int_sequence.alphabet_size()"
   ]
  },
  {
   "cell_type": "markdown",
   "metadata": {},
   "source": [
    "#### Instance method: `get_data`\n",
    "Returns the full sequence as an integer list or string."
   ]
  },
  {
   "cell_type": "code",
   "execution_count": null,
   "metadata": {},
   "outputs": [],
   "source": [
    "extracted_data = int_sequence.get_data()\n",
    "print(type(extracted_data))\n",
    "print(extracted_data[-20:])"
   ]
  },
  {
   "cell_type": "markdown",
   "metadata": {},
   "source": [
    "### 2. `CharacterMap`\n",
    "A sequence is defined as integers from 0 to A-1, where A is the alphabet size, so we need a way to map strings to such integer-based sequences.\n",
    "\n",
    "The `CharacterMap` class maps characters in a string to integer values in a contiguous range, so that a string can be used as an individual sequence.\n",
    "It has the capability to **encode** a string into the corresponding integer representation, and **decode** a list of integers into a string.\n",
    "\n",
    "Inputs:\n",
    "- data: a string consisting of all of the characters that will appear in the character map. For instance, a common use case is:\n",
    "    ```\n",
    "    charmap = CharacterMap(\"abcdefghijklmnopqrstuvwxyz\")\n",
    "     ```"
   ]
  },
  {
   "cell_type": "code",
   "execution_count": null,
   "metadata": {},
   "outputs": [],
   "source": [
    "# generate some dummy data and make a character map\n",
    "s = \" \".join(([lorem.paragraph() for _ in range(10)]))\n",
    "charmap = CharacterMap(s)"
   ]
  },
  {
   "cell_type": "markdown",
   "metadata": {},
   "source": [
    "#### Instance method: `encode`\n",
    "Takes a string and returns the corresponding integer representation."
   ]
  },
  {
   "cell_type": "code",
   "execution_count": null,
   "metadata": {},
   "outputs": [],
   "source": [
    "charmap.encode(\"lorem ipsum\")"
   ]
  },
  {
   "cell_type": "markdown",
   "metadata": {},
   "source": [
    "It errors if any characters to be encoded are not in the alphabet."
   ]
  },
  {
   "cell_type": "code",
   "execution_count": null,
   "metadata": {},
   "outputs": [],
   "source": [
    "# this should error, but with a helpful warning message!\n",
    "charmap.encode(\"hello world\")"
   ]
  },
  {
   "cell_type": "markdown",
   "metadata": {},
   "source": [
    "#### Instance method: `filter_string`\n",
    "Takes a string and removes any characters that are not present in the character mapping.\n",
    "This is useful if you have some text with special characters, and you don't want the special characters to be in the alphabet."
   ]
  },
  {
   "cell_type": "code",
   "execution_count": null,
   "metadata": {},
   "outputs": [],
   "source": [
    "charmap.filter_string(\"hello world. Lorem ipsum! @#$%^&*()\")"
   ]
  },
  {
   "cell_type": "markdown",
   "metadata": {},
   "source": [
    "You can also replace all of the characters that are not present."
   ]
  },
  {
   "cell_type": "code",
   "execution_count": null,
   "metadata": {},
   "outputs": [],
   "source": [
    "charmap.add(\"~\")\n",
    "charmap.filter_string_and_replace(\"hello world. Lorem ipsum! @#$%^&*()\", \"~\")"
   ]
  },
  {
   "cell_type": "markdown",
   "metadata": {},
   "source": [
    "#### Instance method: `decode`\n",
    "Decodes an integer representation of a string into the string itself"
   ]
  },
  {
   "cell_type": "code",
   "execution_count": null,
   "metadata": {},
   "outputs": [],
   "source": [
    "charmap.decode(charmap.encode(\"lorem ipsum\"))"
   ]
  },
  {
   "cell_type": "markdown",
   "metadata": {},
   "source": [
    "#### Instance method: `alphabet_size`\n",
    "Returns how many characters can be represented by the character mapping"
   ]
  },
  {
   "cell_type": "code",
   "execution_count": null,
   "metadata": {},
   "outputs": [],
   "source": [
    "charmap.alphabet_size()"
   ]
  },
  {
   "cell_type": "markdown",
   "metadata": {},
   "source": [
    "### 2.1 Example: Character Sequence\n",
    "A string-based sequence is sometimes referred to as a character sequence. It has the same interface as an integer sequence, except there is an underlying `CharacterMap` object that maps characters to corresponding integer values within the alphabet.\n",
    "\n",
    "You can pass in a `CharacterMap` upon instantiation, or else the character map will be inferred from the data.\n",
    "\n",
    "**Note**: if you pass in a `CharacterMap`, and the input string has characters not present in the character map, instantiation will error.\n",
    "To avoid this, you can use `CharacterMap.filter` beforehand."
   ]
  },
  {
   "cell_type": "code",
   "execution_count": null,
   "metadata": {},
   "outputs": [],
   "source": [
    "stdout.flush()\n",
    "charmap = CharacterMap(\"abcdefghijklmnopqrstuvwxyzABCDEFGHIJKLMNOPQRSTUVWXYZ. ?,\")\n",
    "s = \" \".join(([lorem.paragraph() for _ in range(1000)]))\n",
    "charseq = Sequence(s, charmap=charmap)"
   ]
  },
  {
   "cell_type": "markdown",
   "metadata": {},
   "source": [
    "As with the alphabet size stipulation when instantiating an integer sequence, you must specify a character map."
   ]
  },
  {
   "cell_type": "code",
   "execution_count": null,
   "metadata": {},
   "outputs": [],
   "source": [
    "seq = Sequence(\"this will fail!\")"
   ]
  },
  {
   "cell_type": "markdown",
   "metadata": {},
   "source": [
    "Indexing a character sequence returns the integer representations of the corresponding characters."
   ]
  },
  {
   "cell_type": "code",
   "execution_count": null,
   "metadata": {},
   "outputs": [],
   "source": [
    "print(charseq[100:130])"
   ]
  },
  {
   "cell_type": "markdown",
   "metadata": {},
   "source": [
    "#### Instance method: `get_character_map`\n",
    "Returns the underlying `CharacterMap` object.\n",
    "This will error if the sequence is not a character sequence."
   ]
  },
  {
   "cell_type": "code",
   "execution_count": null,
   "metadata": {},
   "outputs": [],
   "source": [
    "charmap = charseq.get_character_map()\n",
    "charmap.decode(charseq[100:130])"
   ]
  }
 ],
 "metadata": {
  "kernelspec": {
   "display_name": "lz_env",
   "language": "python",
   "name": "python3"
  },
  "language_info": {
   "codemirror_mode": {
    "name": "ipython",
    "version": 3
   },
   "file_extension": ".py",
   "mimetype": "text/x-python",
   "name": "python",
   "nbconvert_exporter": "python",
   "pygments_lexer": "ipython3",
   "version": "3.11.11"
  }
 },
 "nbformat": 4,
 "nbformat_minor": 2
}
