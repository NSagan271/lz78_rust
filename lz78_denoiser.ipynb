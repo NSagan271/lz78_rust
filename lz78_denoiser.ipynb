{
 "cells": [
  {
   "cell_type": "markdown",
   "metadata": {},
   "source": [
    "## LZ78 Python Interface for Denoising with Lookahead"
   ]
  },
  {
   "cell_type": "markdown",
   "metadata": {},
   "source": [
    "### Setup\n",
    "Remember to do `cd crates/python/ && maturin develop && cd ../..` from the `lz78_rust` directory after making any changes to the Rust or the Python interface!"
   ]
  },
  {
   "cell_type": "code",
   "execution_count": 1,
   "metadata": {},
   "outputs": [],
   "source": [
    "\n",
    "import numpy as np\n",
    "from sys import stdout\n",
    "import numpy as np\n",
    "import matplotlib.pyplot as plt\n",
    "\n",
    "import scipy.signal as signal\n",
    "from scipy.linalg import toeplitz\n",
    "import dill as pickle\n",
    "from lz78 import Sequence, LZ78Encoder, CharacterMap, BlockLZ78Encoder, LZ78SPA\n",
    "from lz78 import encoded_sequence_from_bytes, spa_from_bytes"
   ]
  },
  {
   "cell_type": "markdown",
   "metadata": {},
   "source": [
    "### Small Usage Example\n",
    "This is equivalent to the traversal and lookahead tests in `spa.rs`."
   ]
  },
  {
   "cell_type": "code",
   "execution_count": 2,
   "metadata": {},
   "outputs": [
    {
     "data": {
      "text/plain": [
       "0.17043380775717953"
      ]
     },
     "execution_count": 2,
     "metadata": {},
     "output_type": "execute_result"
    }
   ],
   "source": [
    "spa = LZ78SPA(2, gamma=0.5)\n",
    "input = Sequence([1, 0] * 1000, alphabet_size=2)\n",
    "train_loss = spa.train_on_block(input) / 2000\n",
    "train_loss"
   ]
  },
  {
   "cell_type": "code",
   "execution_count": 3,
   "metadata": {},
   "outputs": [
    {
     "data": {
      "text/plain": [
       "[0.9883720930232558, 0.011627906976744186]"
      ]
     },
     "execution_count": 3,
     "metadata": {},
     "output_type": "execute_result"
    }
   ],
   "source": [
    "pdf_traverse = spa.traverse_and_get_prob([0, 1])\n",
    "pdf_traverse"
   ]
  },
  {
   "cell_type": "code",
   "execution_count": 4,
   "metadata": {},
   "outputs": [
    {
     "name": "stdout",
     "output_type": "stream",
     "text": [
      "seed_data: [1, 0, 1, 0, 1, 0]\n",
      "seed_data: [1, 0, 1, 1, 1, 0]\n"
     ]
    },
    {
     "data": {
      "text/plain": [
       "[1.0, 0.0]"
      ]
     },
     "execution_count": 4,
     "metadata": {},
     "output_type": "execute_result"
    }
   ],
   "source": [
    "pdf_lookahead = spa.traverse_and_get_prob_with_lookahead(input=[1, 0, 1], lookahead=[1, 0])\n",
    "pdf_lookahead"
   ]
  },
  {
   "cell_type": "code",
   "execution_count": 5,
   "metadata": {},
   "outputs": [],
   "source": [
    "def universal_denoiser_naive(signal_to_filter, spa_tree, char_map, window_len,pi_matrix, x_alphabet):\n",
    "    sequence_l = len(signal_to_filter)\n",
    "    \n",
    "    Zt_index = char_map.str_to_symbol_list(signal_to_filter[window_len:sequence_l])\n",
    "    filtered_signal = []\n",
    "    for il in range(sequence_l-window_len):\n",
    "        prob = spa_tree.traverse_and_get_prob(signal_to_filter[il:il+window_len])\n",
    "        PX_t_Z_tm1_ele=np.matmul(np.linalg.inv(np.transpose(pi_matrix)),prob)\n",
    "        alphabet_ind = Zt_index[il]\n",
    "        num = pi_matrix[:,alphabet_ind] * PX_t_Z_tm1_ele\n",
    "        den = prob[alphabet_ind]\n",
    "        pxt = num/den\n",
    "        pxt = pxt/np.sum(pxt)\n",
    "        xt_hat = np.dot(pxt,x_alphabet)\n",
    "        filtered_signal.append(xt_hat)\n",
    "    \n",
    "    return filtered_signal\n",
    "\n",
    "def get_prob_from_MC(Dd, seed_str, spa_tree, char_map,num_exper):\n",
    "    generated_seq = []\n",
    "    for i_mc in range(num_exper):\n",
    "        output, loss = spa_tree.generate_data(Dd, seed_data = seed_str,temperature =1, min_context= 3)\n",
    "        generated_seq.append(output)\n",
    "    # count the number of times of last element in the generated sequence\n",
    "    prob = np.zeros(3)\n",
    "    for i in range(num_exper):\n",
    "        # charmap the generated sequence\n",
    "        generated_ind = char_map.str_to_symbol_list(generated_seq[i][-1])\n",
    "        #print(generated_ind)    \n",
    "        prob[generated_ind] += 1\n",
    "    prob = prob/num_exper\n",
    "    return prob\n",
    "\n",
    "def universal_denoiser_delay_mc(Delay,signal_to_filter_mc, spa_tree, char_map, \n",
    "                                window_len,pi_matrix, x_alphabet, num_exp):\n",
    "    sequence_len = len(signal_to_filter_mc) \n",
    "    Zt_index = char_map.str_to_symbol_list(signal_to_filter_mc[window_len:sequence_len])\n",
    "    filtered_signal_delay_mc = []\n",
    "    for idmc in range(sequence_len-window_len):\n",
    "        Zt_seed_str = signal_to_filter_mc[idmc:window_len+idmc-Delay]\n",
    "        prob_mc = get_prob_from_MC(Delay, Zt_seed_str, spa_tree, num_exp)\n",
    "        \n",
    "        PX_t_Z_tm1_mc = np.matmul(np.linalg.inv(np.transpose(pi_matrix)),prob_mc)\n",
    "        alphabet_ind = Zt_index[idmc]\n",
    "        #print(alphabet_ind)\n",
    "        num = pi_matrix[:,alphabet_ind] * PX_t_Z_tm1_mc\n",
    "        den = prob_mc[alphabet_ind]\n",
    "        pxt = num/den\n",
    "        pxt = pxt/np.sum(pxt)\n",
    "        xt_hat_mc = np.dot(pxt,x_alphabet)\n",
    "        #print(xt_hat_mc)\n",
    "        filtered_signal_delay_mc.append(xt_hat_mc)\n",
    "    \n",
    "    #print(filtered_signal_delay_mc)\n",
    "\n",
    "    return filtered_signal_delay_mc"
   ]
  },
  {
   "cell_type": "code",
   "execution_count": 6,
   "metadata": {},
   "outputs": [],
   "source": [
    "def universal_denoiser_lookahead(Lookahead,signal_to_filter_la, spa_tree, char_map: CharacterMap, \n",
    "                                window_len,pi_matrix, x_alphabet):\n",
    "\n",
    "    sequence_len = len(signal_to_filter_la) \n",
    "    Zt_index =signal_to_filter_la[window_len:sequence_len]\n",
    "    \n",
    "    filtered_signal_lookahead = []\n",
    "    #signal_to_filter_la = np.array(signal_to_filter_la)\n",
    "    for ila in range(sequence_len-window_len):\n",
    "        Zt_seed_str = signal_to_filter_la[ila:window_len+ila]\n",
    "        Zt_lookahead_str = signal_to_filter_la[ila+window_len:ila+window_len+Lookahead]\n",
    "\n",
    "        Zt_seed_vec = Zt_seed_str\n",
    "        Zt_lookahead_vec = Zt_lookahead_str\n",
    "        prob_la = spa_tree.traverse_and_get_prob_with_lookahead(Zt_seed_vec, Zt_lookahead_vec)\n",
    "        \n",
    "        PX_t_Z_tm1_la = np.matmul(np.linalg.inv(np.transpose(pi_matrix)),prob_la)\n",
    "        alphabet_ind = Zt_index[ila]\n",
    "        num = pi_matrix[:,alphabet_ind] * PX_t_Z_tm1_la\n",
    "        den = prob_la[alphabet_ind]\n",
    "        pxt = num/den\n",
    "        pxt = pxt/np.sum(pxt)\n",
    "        xt_hat_la = np.dot(pxt,x_alphabet)\n",
    "        filtered_signal_lookahead.append(xt_hat_la)\n",
    "    \n",
    "    return filtered_signal_lookahead    "
   ]
  },
  {
   "cell_type": "markdown",
   "metadata": {},
   "source": [
    "## Markov Example "
   ]
  },
  {
   "cell_type": "code",
   "execution_count": 7,
   "metadata": {},
   "outputs": [],
   "source": [
    "def generate_markov_sequence_random_initial(N, p):\n",
    "    \"\"\"\n",
    "    Generates a Markov sequence of length N with two states: -1 and 1.\n",
    "    The initial state is randomly chosen with a 50:50 chance.\n",
    "    The probability of switching states is p, and the probability of staying in the same state is 1 - p.\n",
    "    \n",
    "    Parameters:\n",
    "    N (int): Length of the Markov sequence.\n",
    "    p (float): Probability of switching states.\n",
    "    \n",
    "    Returns:\n",
    "    np.ndarray: The generated Markov sequence.\n",
    "    \"\"\"\n",
    "    # Initialize the first state randomly with a 50:50 chance\n",
    "    initial_state = np.random.choice([1, -1])\n",
    "    \n",
    "    # Initialize the sequence\n",
    "    sequence = np.zeros(N)\n",
    "    sequence[0] = initial_state\n",
    "\n",
    "    # Generate the Markov sequence\n",
    "    for i in range(1, N):\n",
    "        if np.random.rand() < p:\n",
    "            sequence[i] = -sequence[i-1]  # Switch state\n",
    "        else:\n",
    "            sequence[i] = sequence[i-1]  # Stay in the same state\n",
    "\n",
    "    return sequence\n"
   ]
  },
  {
   "cell_type": "code",
   "execution_count": 8,
   "metadata": {},
   "outputs": [],
   "source": [
    "## this initializes the sequence that trains the SPA\n",
    "#N = 1_000_000_000   #--> between 3^18 and 3^19  \n",
    "N =  100_000_00 \n",
    "D = 2\n",
    "p = 0.8 # probability of changing state\n",
    "Xt= generate_markov_sequence_random_initial(N, p)\n",
    "Nt = np.random.choice([-1, 1], size=N, p=[0.5, 0.5])\n",
    "Zt=  Xt + Nt + 2\n",
    "# convert Zt to integers\n",
    "Zt = Zt.astype(int)\n",
    "Zt_str = ''.join(str(num) for num in Zt)"
   ]
  },
  {
   "cell_type": "code",
   "execution_count": 9,
   "metadata": {},
   "outputs": [
    {
     "data": {
      "text/plain": [
       "1.469769495820801"
      ]
     },
     "execution_count": 9,
     "metadata": {},
     "output_type": "execute_result"
    }
   ],
   "source": [
    "stdout.flush() ## add for any long process\n",
    "spa = LZ78SPA(3, gamma=0.5)\n",
    "char_map =  CharacterMap(Zt_str)\n",
    "input = Sequence(Zt_str, charmap =char_map)\n",
    "train_loss = spa.train_on_block(input) / N\n",
    "train_loss"
   ]
  },
  {
   "cell_type": "code",
   "execution_count": 10,
   "metadata": {},
   "outputs": [
    {
     "name": "stdout",
     "output_type": "stream",
     "text": [
      "[[0.5 0.5 0. ]\n",
      " [0.5 0.  0.5]\n",
      " [0.  0.5 0.5]]\n"
     ]
    }
   ],
   "source": [
    "pi_matrix_true = np.array([[0.5,0.5,0],[0.5,0,0.5],[0, 0.5,0.5]])\n",
    "print(pi_matrix_true)\n"
   ]
  },
  {
   "cell_type": "code",
   "execution_count": null,
   "metadata": {},
   "outputs": [],
   "source": [
    "len_alphabet = char_map.get_alphabet_size()\n",
    "pi_matrix_approx = np.zeros((len_alphabet, len_alphabet))\n",
    "# approximate the transition matrix from Xt to Zt\n",
    "alphabet_Xt = [-1,0, 1]\n",
    "\n",
    "def compute_pi_matrix(Xt,Zt_str,alphabet, alphabet_Xt):\n",
    "    pi_matrix = np.ones((len(alphabet_Xt), len(alphabet)))\n",
    "    for i in range(len(alphabet)):\n",
    "        for j in range(len(alphabet)):\n",
    "            # count the number of times alphabet[i] is followed by alphabet[j]\n",
    "            count = 1\n",
    "            for k in range(len(Xt)-1):\n",
    "                if Xt[k] == alphabet_Xt[i] and Zt_str[k] == alphabet[j]:\n",
    "                    count += 1\n",
    "            pi_matrix[i,j] = count\n",
    "    \n",
    "    pi_matrix = pi_matrix / np.sum(pi_matrix, axis=1)[:,np.newaxis]\n",
    "    return pi_matrix\n",
    "pi_matrix_approx = compute_pi_matrix(Xt,Zt,char_map.get_alphabet())\n",
    "pi_matrix_approx\n"
   ]
  },
  {
   "cell_type": "code",
   "execution_count": 11,
   "metadata": {},
   "outputs": [
    {
     "name": "stdout",
     "output_type": "stream",
     "text": [
      "pdfs: [39.0, 0.0]seed_data: [2, 1, 1, 0, 2, 0, 0, 1, 1]\n",
      "seed_data: [2, 1, 1, 0, 2, 1, 0, 1, 1]\n",
      "seed_data: [2, 1, 1, 0, 2, 2, 0, 1, 1]\n",
      "pdfs: [46.0, 99.0, 53.0]seed_data: [1, 1, 0, 2, 0, 0, 1, 1, 2]\n",
      "seed_data: [1, 1, 0, 2, 0, 1, 1, 1, 2]\n",
      "seed_data: [1, 1, 0, 2, 0, 2, 1, 1, 2]\n",
      "pdfs: [62.0, 202.0, 153.0]seed_data: [1, 0, 2, 0, 1, 0, 1, 2, 0]\n",
      "seed_data: [1, 0, 2, 0, 1, 1, 1, 2, 0]\n",
      "seed_data: [1, 0, 2, 0, 1, 2, 1, 2, 0]\n",
      "pdfs: [79.0, 146.0, 90.0]seed_data: [0, 2, 0, 1, 1, 0, 2, 0]\n",
      "seed_data: [0, 2, 0, 1, 1, 1, 2, 0]\n",
      "seed_data: [0, 2, 0, 1, 1, 2, 2, 0]\n",
      "pdfs: [252.0, 342.0, 89.0]seed_data: [2, 0, 1, 1, 2, 0, 0]\n",
      "seed_data: [2, 0, 1, 1, 2, 1, 0]\n",
      "seed_data: [2, 0, 1, 1, 2, 2, 0]\n"
     ]
    }
   ],
   "source": [
    "stdout.flush()\n",
    "LAH = 3 # lookahead\n",
    "WL = 5 # window length\n",
    "alphabet_Xt = [-1,0, 1]\n",
    "Zt_to_filter = char_map.encode(Zt_str[1110:1120])\n",
    "#Zt_encoded = char_map.encode(\"\".join(Zt_to_filter))\n",
    "Xt_hat = universal_denoiser_lookahead(LAH,Zt_to_filter, spa, char_map,WL, pi_matrix_true, alphabet_Xt)"
   ]
  },
  {
   "cell_type": "code",
   "execution_count": 14,
   "metadata": {},
   "outputs": [
    {
     "name": "stdout",
     "output_type": "stream",
     "text": [
      "[-1.0, 0.45049504950495045, 0.07534246575342468, 1.0056179775280896, -0.9829787234042553]\n"
     ]
    }
   ],
   "source": [
    "print(Xt_hat)"
   ]
  },
  {
   "cell_type": "code",
   "execution_count": 16,
   "metadata": {},
   "outputs": [
    {
     "data": {
      "text/plain": [
       "0.23145370635719567"
      ]
     },
     "execution_count": 16,
     "metadata": {},
     "output_type": "execute_result"
    }
   ],
   "source": [
    "X_clean = Xt[1110:1115] \n",
    "MSE_loss = np.mean((np.array(Xt_hat) - X_clean)**2)\n",
    "MSE_loss"
   ]
  },
  {
   "cell_type": "code",
   "execution_count": null,
   "metadata": {},
   "outputs": [],
   "source": []
  }
 ],
 "metadata": {
  "kernelspec": {
   "display_name": "base",
   "language": "python",
   "name": "python3"
  },
  "language_info": {
   "codemirror_mode": {
    "name": "ipython",
    "version": 3
   },
   "file_extension": ".py",
   "mimetype": "text/x-python",
   "name": "python",
   "nbconvert_exporter": "python",
   "pygments_lexer": "ipython3",
   "version": "3.11.3"
  }
 },
 "nbformat": 4,
 "nbformat_minor": 2
}
