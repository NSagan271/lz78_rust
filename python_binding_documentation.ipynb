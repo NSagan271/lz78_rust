{
 "cells": [
  {
   "cell_type": "markdown",
   "metadata": {},
   "source": [
    "# LZ78 Sequential Probability Assignment: Python Interface for Rust Implementation\n",
    "This code is associated with the paper [A Family of LZ78-based Universal Sequential Probability Assignments](https://arxiv.org/abs/2410.06589)."
   ]
  },
  {
   "cell_type": "markdown",
   "metadata": {},
   "source": [
    "## Setup\n",
    "You need to install Rust and Maturin, and then install the Python bindings for the `lz78` library as an editable Python package.\n",
    "1. Install Rust: [Instructions](https://www.rust-lang.org/tools/install).\n",
    "2. If applicable, switch to the desired Python environment.\n",
    "3. Install Maturin: `pip install maturin`\n",
    "4. Install the `lz78` Python package: `cd crates/python && maturin develop && cd ../..`\n",
    "\n",
    "For generating \"dummy\" text, also install the `lorem` package: `pip install lorem`. You should also have `numpy`."
   ]
  },
  {
   "cell_type": "markdown",
   "metadata": {},
   "source": [
    "## Imports"
   ]
  },
  {
   "cell_type": "code",
   "execution_count": 1,
   "metadata": {},
   "outputs": [],
   "source": [
    "from lz78 import Sequence, LZ78Encoder, CharacterMap, StreamingLZ78Encoder\n",
    "import numpy as np\n",
    "from time import time\n",
    "import lorem"
   ]
  },
  {
   "cell_type": "markdown",
   "metadata": {},
   "source": [
    "## Sequences\n",
    "TODO: describe"
   ]
  },
  {
   "cell_type": "markdown",
   "metadata": {},
   "source": [
    "### Example: Integer Sequence"
   ]
  },
  {
   "cell_type": "code",
   "execution_count": 2,
   "metadata": {},
   "outputs": [],
   "source": [
    "data = np.random.randint(0, 2, size=(10_000_000,))\n",
    "int_sequence = Sequence(data, alphabet_size=2)"
   ]
  },
  {
   "cell_type": "markdown",
   "metadata": {},
   "source": [
    "A limited number of Python list operations work on `Sequence`:"
   ]
  },
  {
   "cell_type": "code",
   "execution_count": 3,
   "metadata": {},
   "outputs": [
    {
     "data": {
      "text/plain": [
       "10000000"
      ]
     },
     "execution_count": 3,
     "metadata": {},
     "output_type": "execute_result"
    }
   ],
   "source": [
    "len(int_sequence)"
   ]
  },
  {
   "cell_type": "code",
   "execution_count": 4,
   "metadata": {},
   "outputs": [
    {
     "data": {
      "text/plain": [
       "[0, 0, 0, 1, 1, 1, 1, 1, 0, 0, 1, 1, 0, 0, 1, 1, 0, 0, 1, 0]"
      ]
     },
     "execution_count": 4,
     "metadata": {},
     "output_type": "execute_result"
    }
   ],
   "source": [
    "int_sequence[-20:]"
   ]
  },
  {
   "cell_type": "markdown",
   "metadata": {},
   "source": [
    "### String Sequence"
   ]
  },
  {
   "cell_type": "code",
   "execution_count": 5,
   "metadata": {},
   "outputs": [],
   "source": [
    "# generate some dummy data\n",
    "s = \" \".join(([lorem.paragraph() for _ in range(10)]))"
   ]
  },
  {
   "cell_type": "code",
   "execution_count": 6,
   "metadata": {},
   "outputs": [],
   "source": [
    "charmap = CharacterMap(s)"
   ]
  },
  {
   "cell_type": "code",
   "execution_count": 7,
   "metadata": {},
   "outputs": [
    {
     "data": {
      "text/plain": [
       "[13, 8, 9, 5, 6, 3, 1, 7, 4, 14, 6]"
      ]
     },
     "execution_count": 7,
     "metadata": {},
     "output_type": "execute_result"
    }
   ],
   "source": [
    "charmap.encode_all(\"lorem ipsum\")"
   ]
  },
  {
   "cell_type": "code",
   "execution_count": 8,
   "metadata": {},
   "outputs": [
    {
     "data": {
      "text/plain": [
       "'lorem ipsum'"
      ]
     },
     "execution_count": 8,
     "metadata": {},
     "output_type": "execute_result"
    }
   ],
   "source": [
    "charmap.decode_all(charmap.encode_all(\"lorem ipsum\"))"
   ]
  },
  {
   "cell_type": "code",
   "execution_count": 9,
   "metadata": {},
   "outputs": [
    {
     "ename": "RuntimeError",
     "evalue": "Character \"h\" not in mapping",
     "output_type": "error",
     "traceback": [
      "\u001b[0;31m---------------------------------------------------------------------------\u001b[0m",
      "\u001b[0;31mRuntimeError\u001b[0m                              Traceback (most recent call last)",
      "Cell \u001b[0;32mIn[9], line 2\u001b[0m\n\u001b[1;32m      1\u001b[0m \u001b[38;5;66;03m# this should error, but with a helpful warning message\u001b[39;00m\n\u001b[0;32m----> 2\u001b[0m charmap\u001b[38;5;241m.\u001b[39mencode_all(\u001b[38;5;124m\"\u001b[39m\u001b[38;5;124mhello world\u001b[39m\u001b[38;5;124m\"\u001b[39m)\n",
      "\u001b[0;31mRuntimeError\u001b[0m: Character \"h\" not in mapping"
     ]
    }
   ],
   "source": [
    "# this should error, but with a helpful warning message\n",
    "charmap.encode_all(\"hello world\")"
   ]
  },
  {
   "cell_type": "code",
   "execution_count": 10,
   "metadata": {},
   "outputs": [],
   "source": [
    "charseq = Sequence(s, charmap=charmap)"
   ]
  },
  {
   "cell_type": "code",
   "execution_count": 11,
   "metadata": {},
   "outputs": [
    {
     "data": {
      "text/plain": [
       "[0, 1, 2, 3, 4, 1, 2, 3, 4, 1, 2, 3, 2, 5, 6, 7, 8, 9, 10, 11]"
      ]
     },
     "execution_count": 11,
     "metadata": {},
     "output_type": "execute_result"
    }
   ],
   "source": [
    "charseq[:20]"
   ]
  },
  {
   "cell_type": "code",
   "execution_count": 12,
   "metadata": {},
   "outputs": [
    {
     "data": {
      "text/plain": [
       "'Sit sit sit tempora. Velit ut adipisci dolorem quaerat velit voluptatem neque. Magnam voluptatem adipisci magnam sit sed. Eius est sit dolore. Ut neque adipisci velit non voluptatem. Consectetur adipisci neque ut etincidunt dolorem. Numquam dolore quiquia ut magnam ut. Amet dolorem sed consectetur ut neque velit. Non est quisquam labore labore quiquia amet. Ut amet amet quaerat adipisci non porro quiquia. Aliquam aliquam porro dolorem voluptatem. Dolor velit tempora non est sit magnam. Ipsum aliquam aliquam ut. Numquam labore ipsum eius dolorem. Quisquam voluptatem adipisci non ut voluptatem. Ipsum quisquam quaerat ut ut non. Modi quisquam ut dolore eius numquam tempora numquam. Dolor magnam adipisci aliquam adipisci modi amet. Quisquam adipisci non modi non ut. Quisquam neque etincidunt modi. Non consectetur dolor dolor quiquia dolorem dolorem. Etincidunt labore modi labore neque consectetur amet. Porro velit dolore aliquam dolorem. Neque tempora ut magnam eius neque amet. Quisquam quaerat porro quisquam quaerat. Dolore amet modi quisquam adipisci amet sit consectetur. Voluptatem quaerat sed voluptatem quiquia adipisci ut. Adipisci sit dolore adipisci porro neque. Tempora ut sit velit dolor ipsum ut. Neque quiquia dolor non neque. Consectetur ut sed quisquam. Porro porro quiquia dolore numquam. Velit numquam etincidunt velit porro porro aliquam. Eius quisquam sed non. Eius voluptatem eius quisquam labore aliquam adipisci sed. Dolore quaerat quisquam eius ut. Quaerat non sit neque magnam neque. Porro est velit ut dolore non. Modi non neque modi numquam neque numquam aliquam. Numquam tempora consectetur quiquia modi sit. Dolore velit modi aliquam etincidunt voluptatem. Quisquam quisquam aliquam aliquam. Aliquam porro quisquam quaerat porro. Tempora voluptatem aliquam ut sit velit adipisci. Consectetur quisquam porro sed sit eius modi. Velit etincidunt ipsum ut modi. Non voluptatem etincidunt est. Dolore neque sed non quisquam neque velit ut. Tempora sit neque etincidunt adipisci sed eius ut. Est modi dolorem eius sit quisquam dolor. Quiquia consectetur amet dolor sit amet porro. Etincidunt voluptatem consectetur labore quisquam voluptatem numquam. Ipsum quaerat neque sit sit etincidunt neque. Dolore est sed ipsum quaerat. Porro quaerat quisquam dolorem. Amet quaerat quisquam non dolor quiquia. Consectetur tempora tempora quiquia est quisquam. Magnam amet amet sit. Dolor quaerat tempora tempora aliquam numquam. Aliquam ipsum dolore non. Etincidunt tempora eius ipsum neque sit dolore. Aliquam quaerat velit numquam amet. Sit amet consectetur numquam dolor. Non modi consectetur voluptatem sed ipsum ut. Quaerat eius est dolor neque aliquam dolore modi. Ut aliquam aliquam etincidunt. Magnam sed porro sit.'"
      ]
     },
     "execution_count": 12,
     "metadata": {},
     "output_type": "execute_result"
    }
   ],
   "source": [
    "charseq.get_data()"
   ]
  },
  {
   "cell_type": "markdown",
   "metadata": {},
   "source": [
    "## LZ78 Block-Wise Compression\n",
    "TODO: describe"
   ]
  },
  {
   "cell_type": "code",
   "execution_count": 13,
   "metadata": {},
   "outputs": [],
   "source": [
    "data = \" \".join(([lorem.paragraph() for _ in range(10_000)]))\n",
    "charmap = CharacterMap(data)\n",
    "charseq = Sequence(data, charmap=charmap)\n",
    "encoder = LZ78Encoder()"
   ]
  },
  {
   "cell_type": "code",
   "execution_count": 14,
   "metadata": {},
   "outputs": [
    {
     "name": "stdout",
     "output_type": "stream",
     "text": [
      "encode time 2.6338725090026855 seconds\n",
      "hi\n"
     ]
    }
   ],
   "source": [
    "# The Jupyter notebook might not register that this is running and it'll\n",
    "# look like it's waiting for the cell to start running. This is expected \n",
    "tic = time()\n",
    "encoded = encoder.encode(charseq)\n",
    "toc = time()\n",
    "print(\"encode time\", toc - tic, \"seconds\")"
   ]
  },
  {
   "cell_type": "code",
   "execution_count": 30,
   "metadata": {},
   "outputs": [
    {
     "data": {
      "text/plain": [
       "0.31895026564598083"
      ]
     },
     "execution_count": 30,
     "metadata": {},
     "output_type": "execute_result"
    }
   ],
   "source": [
    "encoded.compression_ratio()"
   ]
  },
  {
   "cell_type": "code",
   "execution_count": 33,
   "metadata": {},
   "outputs": [
    {
     "name": "stdout",
     "output_type": "stream",
     "text": [
      "decode time 0.998359203338623 seconds\n"
     ]
    }
   ],
   "source": [
    "tic = time()\n",
    "decoded = encoder.decode(encoded)\n",
    "toc = time()\n",
    "print(\"decode time\", toc - tic, \"seconds\")"
   ]
  },
  {
   "cell_type": "markdown",
   "metadata": {},
   "source": [
    "### Streaming"
   ]
  },
  {
   "cell_type": "code",
   "execution_count": 27,
   "metadata": {},
   "outputs": [],
   "source": [
    "charmap = CharacterMap(\"abcdefghijklmnopqrstuvwxyzABCDEFGHIJKLMNOPQRSTUVWXYZ. ,?\")"
   ]
  },
  {
   "cell_type": "code",
   "execution_count": 28,
   "metadata": {},
   "outputs": [],
   "source": [
    "encoder = StreamingLZ78Encoder(charmap.alphabet_size())"
   ]
  },
  {
   "cell_type": "code",
   "execution_count": 29,
   "metadata": {},
   "outputs": [],
   "source": [
    "for _ in range(100):\n",
    "    encoder.encode_block(Sequence(lorem.paragraph(), charmap=charmap))"
   ]
  },
  {
   "cell_type": "code",
   "execution_count": 30,
   "metadata": {},
   "outputs": [
    {
     "data": {
      "text/plain": [
       "0.44504818320274353"
      ]
     },
     "execution_count": 30,
     "metadata": {},
     "output_type": "execute_result"
    }
   ],
   "source": [
    "encoder.get_encoded_sequence().compression_ratio()"
   ]
  },
  {
   "cell_type": "code",
   "execution_count": 31,
   "metadata": {},
   "outputs": [
    {
     "data": {
      "text/plain": [
       "[13, 14, 13, 53, 16, 20, 0, 4, 17, 0]"
      ]
     },
     "execution_count": 31,
     "metadata": {},
     "output_type": "execute_result"
    }
   ],
   "source": [
    "encoder.decode()[100:110]"
   ]
  },
  {
   "cell_type": "code",
   "execution_count": 32,
   "metadata": {},
   "outputs": [
    {
     "data": {
      "text/plain": [
       "'non quaerat amet. Ut modi adipisci dolore tempora voluptatem sed dolore. Aliquam amet amet sed ipsum'"
      ]
     },
     "execution_count": 32,
     "metadata": {},
     "output_type": "execute_result"
    }
   ],
   "source": [
    "charmap.decode_all(encoder.decode()[100:200])"
   ]
  },
  {
   "cell_type": "code",
   "execution_count": null,
   "metadata": {},
   "outputs": [],
   "source": []
  }
 ],
 "metadata": {
  "kernelspec": {
   "display_name": "base",
   "language": "python",
   "name": "python3"
  },
  "language_info": {
   "codemirror_mode": {
    "name": "ipython",
    "version": 3
   },
   "file_extension": ".py",
   "mimetype": "text/x-python",
   "name": "python",
   "nbconvert_exporter": "python",
   "pygments_lexer": "ipython3",
   "version": "3.11.7"
  }
 },
 "nbformat": 4,
 "nbformat_minor": 2
}
