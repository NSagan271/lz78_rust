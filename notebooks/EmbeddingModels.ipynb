{
 "cells": [
  {
   "cell_type": "markdown",
   "metadata": {},
   "source": [
    "# Main Notebook: Embeddings"
   ]
  },
  {
   "cell_type": "markdown",
   "metadata": {},
   "source": [
    "## 1. Setup Instructions\n",
    "\n",
    "### A. Rust LZ78 Library\n",
    "You need to install Rust and Maturin, and then install the Python bindings for the `lz78` library as an editable Python package.\n",
    "1. Install Rust: [Instructions](https://www.rust-lang.org/tools/install).\n",
    "    - After installing Rust, close and reopen your terminal before proceeding.\n",
    "2. If applicable, switch to the desired Python environment.\n",
    "3. Install Maturin: `pip install maturin`\n",
    "4. Install the `lz78` Python package: `cd crates/python && maturin develop -r && cd ../..`\n",
    "\n",
    "**NOTE**: If you use virtual environments, you may run into an issue. If you are a conda user, it's possible the `(base)` environment may be activated on startup. `maturin` does not allow for two active virtual environments (ie. via `venv` and `conda`). You must make sure only one is active. One solution is to run `conda deactivate` in preference of your `venv` based virtual environment.\n",
    "\n",
    "**NOTE**: If you are using MacOS, you may run into the following error with `maturin develop`:\n",
    "```\n",
    "error [E0463]: can't find crate for core\n",
    "    = note: the X86_64-apple-darwin target may not be installed\n",
    "    = help: consider downloading the target with 'rustup target add x86_64-apple-darwin'\n",
    "```\n",
    "Running the recommended command `rustup target add x86_64-apple-darwin` should resolve the issue.\n",
    "\n",
    "### B. LZ78 Embeddings\n",
    "From the root directory of the repository, run\n",
    "```\n",
    "pip install --editable .\n",
    "```\n",
    "\n",
    "### **Warning**\n",
    "Sometimes, Jupyter doesn't register that a cell containing code from the `lz78` library has started running, so it seems like the cell is waiting to run until it finishes.\n",
    "This can be annoying for operations that take a while to run, and **can be remedied by putting `stdout.flush()` at the beginning of the cell**."
   ]
  },
  {
   "cell_type": "markdown",
   "metadata": {},
   "source": [
    "## 2. Imports"
   ]
  },
  {
   "cell_type": "code",
   "execution_count": null,
   "metadata": {},
   "outputs": [],
   "source": [
    "from lz_embed.classical import NGramSpectrumEmbedding, NGramSpectrumEmbeddingConfig\n",
    "import mteb\n",
    "from sys import stdout, stderr\n",
    "from lz_embed.transformer_based import TokenizedLZPlusEmbedding, TokenizedLZPlusEmbeddingConfig, WeightType\n",
    "from lz_embed.utils import AlphabetInfo\n",
    "import numpy as np\n",
    "from relu_embed.embedding import NNEmbedding, NNEmbeddingConfig\n",
    "from relu_embed.classification import MultiproblemReLUClassifier\n",
    "import matplotlib.pyplot as plt\n",
    "from datasets import load_dataset\n",
    "from tqdm import tqdm\n",
    "from relu_embed.data import DatasetInfo, load_and_process_dataset\n",
    "import torch"
   ]
  },
  {
   "cell_type": "code",
   "execution_count": null,
   "metadata": {},
   "outputs": [],
   "source": [
    "%load_ext autoreload\n",
    "%autoreload 2"
   ]
  },
  {
   "cell_type": "markdown",
   "metadata": {},
   "source": [
    "## 3. Summary\n",
    "This notebook contains summaries of the different embedding techniques tried so far:\n",
    "\n",
    "1. **NGram embedding**: this embedding method is equivalent to creating an embedding from the frequencies of each $n$-tuple in the input data (where $n$ is a small number, like 2).\n",
    "\n",
    "2. **Combining LZ with a pretrained embedding model**: this is very similar to [Model2Vec](https://huggingface.co/blog/Pringled/model2vec). A priori, it computes the embedding of each token in the default Sentence Transformer vocabulary and performs PCA. At embedding time, it uses LZ probabilities to perform a weighted average of the token embeddings for the tokens in the input sequence.\n",
    "\n",
    "3. **ReLU neural network embeddings**: a two-layer ReLU neural network embedding model is trained to provide embeddings for a variety of classification tasks (using a different classification head (linear layer + softmax) for each task).\n",
    "\n",
    "### 3A. How to Run Experiments\n",
    "For experiments, look at:\n",
    "- **`scripts/train_model.py`**: this trains each of these three embedding models, and saves them to the specified directory, along with a model configuration JSON.\n",
    "\n",
    "    After training, the model can be loaded in using `ModelClass.from_pretrained(directory)`, and the parameters can be changed within the `config.json` file.\n",
    "    - For the NGram embeddings, it instantiates an NGram embedding model, and optionally uses data from the `Fineweb` dataset to compute a subspace on which the NGram embeddings are projected.\n",
    "    - For the LZ embeddings, it trains an LZ tree on data from `Fineweb`.\n",
    "    - For the ReLU NN embeddings, it trains a multi-headed classifier from which embeddings can be extracted.\n",
    "- **`scripts/evaluate_model.py`**: this evaluates a pretrained embedding model on some tasks from the `mteb` benchmark.\n",
    "\n",
    "### 3B: Model Instantiation\n",
    "All models can generally be instantiated with code of the form\n",
    "```\n",
    "model = ModelClass(\n",
    "    ModelClassConfig(options...),\n",
    "    model_save_dir\n",
    ")\n",
    "```\n",
    "Some models have training routines that are run post-instantiation.\n",
    "\n",
    "To save the model so that it can be loaded from `model_save_dir` without specifying the configuration or training again, use\n",
    "```\n",
    "model.save_pretrained()\n",
    "```\n",
    "The model can then be loaded in with\n",
    "```\n",
    "model = ModelClass.from_pretrained(model_save_dir)\n",
    "```\n",
    "\n",
    "**Note**: `model_save_dir` will have a file called `config.json`, which can be modified to change the model configuration for the next time it is loaded in.\n",
    "\n",
    "### 3C. Testing on MTEB Tasks\n",
    "As all our embedding model classes inherit from `SentenceTransformer`, any MTEB task can be evaluated using the `mteb` library's interface.\n",
    "\n",
    "Details about individual tasks can be found on the [MTEB leaderboard page](https://huggingface.co/spaces/mteb/leaderboard).\n",
    "\n",
    "#### **Disclaimer: this is preliminary work, and not very well polished, documented, or debugged.**\n"
   ]
  },
  {
   "cell_type": "markdown",
   "metadata": {},
   "source": [
    "## 4. NGram Embedding\n",
    "\n",
    "To instantiate a `BasicLZSpectrum`, you need to specify information about the alphabet of the sequences you are encoding.\n",
    "This is via the `AlphabetInfo` dataclass, where you specify either:\n",
    "1. `AlphabetInfo(alphabet_size=A)`, for encoding integer sequences, or\n",
    "2. `AlphabetInfo(valid_character_string=\"abcdefgh...\")` for encoding strings. This specifies that strings being encoded can only consist of characters in `valid_character_string`.\n",
    "\n",
    "You also have to specify what `n` to use for the `n`-gram. Something small, like 2, is recommended because the embedding dimension is exponetial in `n`.\n",
    "\n",
    "#### **Note**: PCA\n",
    "You can perform PCA (using embeddings from calibration data sampled from `Fineweb`) to reduce the large dimensionality (17k for $n=2$) of the ngram embedding. See `scripts/train_model.py` for more details."
   ]
  },
  {
   "cell_type": "code",
   "execution_count": null,
   "metadata": {},
   "outputs": [],
   "source": [
    "model = NGramSpectrumEmbedding(\n",
    "    NGramSpectrumEmbeddingConfig(\n",
    "        alphabet_info=AlphabetInfo(valid_character_string=\"abcdefghijklmnopqrstuvwxyz\"),\n",
    "        n=2\n",
    "    ),\n",
    "    \"object/ngram\"\n",
    ")"
   ]
  },
  {
   "cell_type": "markdown",
   "metadata": {},
   "source": [
    "#### **Quick example**: `save_pretrained` and `load_pretrained`"
   ]
  },
  {
   "cell_type": "code",
   "execution_count": null,
   "metadata": {},
   "outputs": [],
   "source": [
    "model.save_pretrained()"
   ]
  },
  {
   "cell_type": "code",
   "execution_count": null,
   "metadata": {},
   "outputs": [],
   "source": [
    "model = NGramSpectrumEmbedding.from_pretrained(\"object/ngram\")"
   ]
  },
  {
   "cell_type": "markdown",
   "metadata": {},
   "source": [
    "#### **Example**: computing embeddings"
   ]
  },
  {
   "cell_type": "code",
   "execution_count": null,
   "metadata": {},
   "outputs": [],
   "source": [
    "plt.figure(figsize=(12,3))\n",
    "plt.plot(model.encode([\n",
    "    \"Hello world hello world I am a hello of the world hello hello world world wow wow hello hello\"\n",
    "])[0])"
   ]
  },
  {
   "cell_type": "code",
   "execution_count": null,
   "metadata": {},
   "outputs": [],
   "source": [
    "plt.figure(figsize=(12,3))\n",
    "plt.plot(model.encode([\n",
    "    \"Lorem ipsum dolor sit amet, consectetur adipiscing elit, sed do eiusmod tempor incididunt ut labore et dolore magna aliqua. Ut enim ad minim veniam, quis nostrud exercitation ullamco laboris nisi ut aliquip ex ea commodo consequat. Duis aute irure dolor in reprehenderit in voluptate velit esse cillum dolore eu fugiat nulla pariatur. Excepteur sint occaecat cupidatat non proident, sunt in culpa qui officia deserunt mollit anim id est laborum.\"\n",
    "])[0])"
   ]
  },
  {
   "cell_type": "markdown",
   "metadata": {},
   "source": [
    "### Try on some of the MTEB tasks\n",
    "\n",
    "This does surprisingly well for a 2-gram model (3-gram is slow and the embeddings are prohibitively large).\n",
    "\n",
    "Results here: [link](https://docs.google.com/spreadsheets/d/11CBoRJ33tmXQqd50IVaWbFn915fD90Het3DKSTW8F78/edit?usp=sharing)"
   ]
  },
  {
   "cell_type": "code",
   "execution_count": null,
   "metadata": {},
   "outputs": [],
   "source": [
    "task_list = [\n",
    "    \"ArXivHierarchicalClusteringP2P\",\n",
    "    \"FinancialPhrasebankClassification\",\n",
    "    \"PoemSentimentClassification\"\n",
    "    \"HagridRetrieval\",\n",
    "]\n",
    "\n",
    "outputs = []\n",
    "\n",
    "for task in task_list:\n",
    "    tasks = mteb.get_tasks(tasks=[task])\n",
    "    evaluation = mteb.MTEB(tasks=tasks)\n",
    "\n",
    "    results = evaluation.run(\n",
    "        model, output_folder=f\"results/test\",\n",
    "        show_progress_bar=False,\n",
    "        overwrite_results=True\n",
    "    )\n",
    "\n",
    "    score = np.mean([results[0].scores[name][0][\"main_score\"] * 100 for name in results[0].scores])\n",
    "    outputs.append(score)\n",
    "    print(\"SCORE: \", score)\n",
    "    stdout.flush()"
   ]
  },
  {
   "cell_type": "markdown",
   "metadata": {},
   "source": [
    "## 5. LZ Weighted Embedding\n",
    "This does the following:\n",
    "1. Computes embeddings for all tokens in (e.g.) the BERT vocabulary and performs PCA, just like the Potion models. \n",
    "\n",
    "    _Note_: this part is currently suboptimal compared to the Potion models, which do an additional round of finetuning for the stored embeddings. We can do this too, but it would make the initial experiment cycle quite unwieldy.\n",
    "\n",
    "2. Trains an LZ78 SPA on some data (making everything lowercase and omitting everything that isn't a letter, number, or space)\n",
    "\n",
    "3. Computes embeddings by taking the weighted average of the stored embeddings over the tokens in the input sequences.\n",
    "Here, we have the option to use uniform weighting, Zipf weighting (which should be equivalent to the Potion models, minus the finetuning), or LZ log loss weighing.\n",
    "\n",
    "Theoretically, the LZ log loss weighting should be better, but in practice it isn't clearly better than zipf. It's better than uniform weighting, which is at least a step in the right direction."
   ]
  },
  {
   "cell_type": "code",
   "execution_count": null,
   "metadata": {},
   "outputs": [],
   "source": [
    "model = TokenizedLZPlusEmbedding( \n",
    "    TokenizedLZPlusEmbeddingConfig(\n",
    "        inner_model_name=\"BAAI/bge-base-en-v1.5\",\n",
    "        backshift_and_ensemble=True,\n",
    "        backshift_parsing_len=10,\n",
    "        ensemble_n=6,\n",
    "        spa_lower_bound=1e-3,\n",
    "        pca=True,\n",
    "        pca_dim=256,\n",
    "        weight_type=WeightType.LOG_LOSS,\n",
    "        device=\"cuda:7\"\n",
    "    ),\n",
    "    \"object/lz\"\n",
    ")"
   ]
  },
  {
   "cell_type": "markdown",
   "metadata": {},
   "source": [
    "#### **Simple Training**: Train on Wikipedia"
   ]
  },
  {
   "cell_type": "code",
   "execution_count": null,
   "metadata": {},
   "outputs": [],
   "source": [
    "dataset = load_dataset(\"salesforce/Wikitext\", \"wikitext-2-v1\")\n",
    "EPOCHS = 10\n",
    "stdout.flush()\n",
    "for _ in tqdm(range(EPOCHS)):\n",
    "    for text in (dataset[\"train\"]):\n",
    "        text = text[\"text\"]\n",
    "        if not text:\n",
    "            continue\n",
    "        model.train_spa(text)"
   ]
  },
  {
   "cell_type": "code",
   "execution_count": null,
   "metadata": {},
   "outputs": [],
   "source": [
    "stdout.flush()\n",
    "model.spa.prune(2)\n",
    "print(f\"The LZ tree has {model.spa.get_total_nodes() / 1e6} million nodes\")"
   ]
  },
  {
   "cell_type": "markdown",
   "metadata": {},
   "source": [
    "### Try on some of the MTEB tasks"
   ]
  },
  {
   "cell_type": "code",
   "execution_count": null,
   "metadata": {},
   "outputs": [],
   "source": [
    "task_list = [\n",
    "    \"ArXivHierarchicalClusteringP2P\",\n",
    "    \"FinancialPhrasebankClassification\",\n",
    "    \"PoemSentimentClassification\"\n",
    "    \"HagridRetrieval\",\n",
    "]\n",
    "\n",
    "outputs = []\n",
    "\n",
    "for task in task_list:\n",
    "    tasks = mteb.get_tasks(tasks=[task])\n",
    "    evaluation = mteb.MTEB(tasks=tasks)\n",
    "\n",
    "    results = evaluation.run(\n",
    "        model, output_folder=f\"results/test\",\n",
    "        show_progress_bar=False,\n",
    "        overwrite_results=True\n",
    "    )\n",
    "\n",
    "    score = np.mean([results[0].scores[name][0][\"main_score\"] * 100 for name in results[0].scores])\n",
    "    outputs.append(score)\n",
    "    print(\"SCORE: \", score)\n",
    "    stdout.flush()"
   ]
  },
  {
   "attachments": {
    "image.png": {
     "image/png": "[encoded data removed]"
    }
   },
   "cell_type": "markdown",
   "metadata": {},
   "source": [
    "## 6. Classification-Trained Embeddings\n",
    "\n",
    "Potion can be thought of as a linear projection of token counts. A two-layer ReLU neural network should have more representation power, but it must be trained.\n",
    "\n",
    "As an experiment in this direction, we train a classifier to do well on several classification tasks from MTEB with the following architecture:\n",
    "\n",
    "![image.png](attachment:image.png)\n",
    "\n",
    "The embeddings are the output of the $256 \\times 256$ linear layer, which are input, in parallel, to several linear classification heads.\n",
    "\n",
    "This will train an embedding model that is well-suited for linear classifiers (at least for some problems), but it doesn't (empirically) generalize well to other problem types, or even clustering-based classifiers."
   ]
  },
  {
   "cell_type": "markdown",
   "metadata": {},
   "source": [
    "### Step 1: Get data"
   ]
  },
  {
   "cell_type": "code",
   "execution_count": null,
   "metadata": {},
   "outputs": [],
   "source": [
    "problems = [\n",
    "    DatasetInfo(\"mteb/banking77\"),\n",
    "    DatasetInfo(\"mteb/amazon_counterfactual\"),\n",
    "    DatasetInfo(\"mteb/toxic_conversations_50k\"),\n",
    "    DatasetInfo(\n",
    "        \"google-research-datasets/poem_sentiment\", text_column=\"verse_text\"),\n",
    "    DatasetInfo(\n",
    "        \"takala/financial_phrasebank\", name=\"sentences_allagree\",\n",
    "        text_column=\"sentence\", has_splits=False),\n",
    "    DatasetInfo(\"mteb/imdb\"),\n",
    "    DatasetInfo(\"mteb/tweet_sentiment_extraction\"),\n",
    "    \n",
    "]\n",
    "problem_names = [x.dataset for x in problems]\n",
    "\n",
    "n_classes = []\n",
    "Xs, ys, Xtests, ytests, ids = [], [], [], [], []\n",
    "for (i, prob) in enumerate(problems):\n",
    "    X, y, Xtest, ytest = load_and_process_dataset(prob)\n",
    "    n_classes.append(int(torch.max(y).item()) + 1)\n",
    "    Xs.append(X)\n",
    "    ys.append(y)\n",
    "    Xtests.append(Xtest)\n",
    "    ytests.append(ytest)\n",
    "    ids.append(i)"
   ]
  },
  {
   "cell_type": "markdown",
   "metadata": {},
   "source": [
    "### Step 2: Train a classifier\n",
    "\n",
    "For reference, based on the MTEB leaderboard, the potion models get the following accuracies:\n",
    "- **Amazon counterfactual**: 66%\n",
    "- **Toxic conversations**: 69%\n",
    "- **Financial phrasebank**: 65%\n",
    "- **Poem sentiment**: 45%\n",
    "\n",
    "(I couldn't find the rest of the problems used on the leaderboard)"
   ]
  },
  {
   "cell_type": "code",
   "execution_count": null,
   "metadata": {},
   "outputs": [],
   "source": [
    "model = MultiproblemReLUClassifier(\n",
    "    n_classes=n_classes, problem_names=problem_names,\n",
    "    input_size=Xs[0].shape[1],\n",
    "    embedding_size=256,\n",
    "    device=\"cuda:7\"\n",
    ")"
   ]
  },
  {
   "cell_type": "code",
   "execution_count": null,
   "metadata": {},
   "outputs": [],
   "source": [
    "train_dataloader = model.get_dataloader_batch(\n",
    "    Xs, ys, ids, batch_size=256, normalize_rows=True\n",
    ")\n",
    "test_dataloaders = [\n",
    "    model.get_dataloader_single(\n",
    "        Xtest, ytest, id_test, batch_size=256, normalize_rows=True\n",
    "    ) for (Xtest, ytest, id_test) in zip(Xtests, ytests, ids)\n",
    "]"
   ]
  },
  {
   "cell_type": "code",
   "execution_count": null,
   "metadata": {},
   "outputs": [],
   "source": [
    "model.train(\n",
    "    train_dataloader, test_dataloaders,\n",
    "    epochs=15, lr=1e-3,\n",
    "    lr_decay=0.99,\n",
    "    eval_interval=200_000\n",
    ")"
   ]
  },
  {
   "cell_type": "markdown",
   "metadata": {},
   "source": [
    "### Step 3: Make an embedding model"
   ]
  },
  {
   "cell_type": "code",
   "execution_count": null,
   "metadata": {},
   "outputs": [],
   "source": [
    "embedding_model = model.get_embedding_model(\n",
    "    NNEmbeddingConfig(\n",
    "        tokenizer_name=\"BAAI/bge-base-en-v1.5\",\n",
    "        embedding_dimension=model.embedding_size,\n",
    "        normalize_token_counts=True,\n",
    "        normalize_embeds=True,\n",
    "        device=\"cpu\"\n",
    "    ), \"object/relu\"\n",
    ")"
   ]
  },
  {
   "cell_type": "markdown",
   "metadata": {},
   "source": [
    "#### **Note**: discrepancy in accuracies\n",
    "The eval accuracy of the multiheaded classifier is not indicative of the eval loss when evaluating the model on the corresponding MTEB tasks. MTEB might be using a clustering-based classifier instead of a regression-based classifier."
   ]
  },
  {
   "cell_type": "code",
   "execution_count": null,
   "metadata": {},
   "outputs": [],
   "source": [
    "task_list = [\n",
    "    \"PoemSentimentClassification\",\n",
    "    \"FinancialPhrasebankClassification\",\n",
    "]\n",
    "\n",
    "outputs = []\n",
    "\n",
    "for task in task_list:\n",
    "    tasks = mteb.get_tasks(tasks=[task])\n",
    "    evaluation = mteb.MTEB(tasks=tasks)\n",
    "\n",
    "    results = evaluation.run(\n",
    "        embedding_model, output_folder=f\"results/test\",\n",
    "        show_progress_bar=True,\n",
    "        overwrite_results=True\n",
    "    )\n",
    "\n",
    "    score = np.mean([results[0].scores[name][0][\"main_score\"] * 100 for name in results[0].scores])\n",
    "    outputs.append(score)\n",
    "    print(\"SCORE: \", score)\n",
    "    stdout.flush()"
   ]
  },
  {
   "cell_type": "code",
   "execution_count": null,
   "metadata": {},
   "outputs": [],
   "source": []
  }
 ],
 "metadata": {
  "kernelspec": {
   "display_name": "mb",
   "language": "python",
   "name": "python3"
  },
  "language_info": {
   "codemirror_mode": {
    "name": "ipython",
    "version": 3
   },
   "file_extension": ".py",
   "mimetype": "text/x-python",
   "name": "python",
   "nbconvert_exporter": "python",
   "pygments_lexer": "ipython3",
   "version": "3.10.17"
  }
 },
 "nbformat": 4,
 "nbformat_minor": 2
}
